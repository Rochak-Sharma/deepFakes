{
  "nbformat": 4,
  "nbformat_minor": 0,
  "metadata": {
    "accelerator": "GPU",
    "colab": {
      "name": "deepFakeApi.ipynb",
      "provenance": [],
      "collapsed_sections": [],
      "machine_shape": "hm",
      "mount_file_id": "1lmRw2LIqzcO_Hn0GQ7oOpvqBo2Hhylqh",
      "authorship_tag": "ABX9TyOtC5YZdfcjBE1i6IJ/8icd",
      "include_colab_link": true
    },
    "kernelspec": {
      "display_name": "Python 3",
      "name": "python3"
    },
    "language_info": {
      "name": "python"
    }
  },
  "cells": [
    {
      "cell_type": "markdown",
      "metadata": {
        "id": "view-in-github",
        "colab_type": "text"
      },
      "source": [
        "<a href=\"https://colab.research.google.com/github/Rochak-Sharma/deepFakes/blob/main/deepFakeApi.ipynb\" target=\"_parent\"><img src=\"https://colab.research.google.com/assets/colab-badge.svg\" alt=\"Open In Colab\"/></a>"
      ]
    },
    {
      "cell_type": "markdown",
      "metadata": {
        "id": "iF2IYAUkidVn"
      },
      "source": [
        "We'll manage our dependencies using Pipenv. Here's the complete Pipfile:"
      ]
    },
    {
      "cell_type": "code",
      "metadata": {
        "colab": {
          "base_uri": "https://localhost:8080/"
        },
        "id": "SnL_5ghRweol",
        "outputId": "543d7f4e-a1be-4edf-b6bb-1d33b69a6545"
      },
      "source": [
        "gpu_info = !nvidia-smi\n",
        "gpu_info = '\\n'.join(gpu_info)\n",
        "if gpu_info.find('failed') >= 0:\n",
        "  print('Not connected to a GPU')\n",
        "else:\n",
        "  print(gpu_info)"
      ],
      "execution_count": 1,
      "outputs": [
        {
          "output_type": "stream",
          "name": "stdout",
          "text": [
            "Sun Sep 19 18:24:11 2021       \n",
            "+-----------------------------------------------------------------------------+\n",
            "| NVIDIA-SMI 470.63.01    Driver Version: 460.32.03    CUDA Version: 11.2     |\n",
            "|-------------------------------+----------------------+----------------------+\n",
            "| GPU  Name        Persistence-M| Bus-Id        Disp.A | Volatile Uncorr. ECC |\n",
            "| Fan  Temp  Perf  Pwr:Usage/Cap|         Memory-Usage | GPU-Util  Compute M. |\n",
            "|                               |                      |               MIG M. |\n",
            "|===============================+======================+======================|\n",
            "|   0  Tesla P100-PCIE...  Off  | 00000000:00:04.0 Off |                    0 |\n",
            "| N/A   38C    P0    27W / 250W |      0MiB / 16280MiB |      0%      Default |\n",
            "|                               |                      |                  N/A |\n",
            "+-------------------------------+----------------------+----------------------+\n",
            "                                                                               \n",
            "+-----------------------------------------------------------------------------+\n",
            "| Processes:                                                                  |\n",
            "|  GPU   GI   CI        PID   Type   Process name                  GPU Memory |\n",
            "|        ID   ID                                                   Usage      |\n",
            "|=============================================================================|\n",
            "|  No running processes found                                                 |\n",
            "+-----------------------------------------------------------------------------+\n"
          ]
        }
      ]
    },
    {
      "cell_type": "code",
      "metadata": {
        "colab": {
          "base_uri": "https://localhost:8080/"
        },
        "id": "_pXUsg4cwky-",
        "outputId": "92e76cd9-7bc5-440c-e4d4-67847fdc2753"
      },
      "source": [
        "from psutil import virtual_memory\n",
        "ram_gb = virtual_memory().total / 1e9\n",
        "print('Your runtime has {:.1f} gigabytes of available RAM\\n'.format(ram_gb))\n",
        "\n",
        "if ram_gb < 20:\n",
        "  print('Not using a high-RAM runtime')\n",
        "else:\n",
        "  print('You are using a high-RAM runtime!')"
      ],
      "execution_count": 2,
      "outputs": [
        {
          "output_type": "stream",
          "name": "stdout",
          "text": [
            "Your runtime has 27.3 gigabytes of available RAM\n",
            "\n",
            "You are using a high-RAM runtime!\n"
          ]
        }
      ]
    },
    {
      "cell_type": "code",
      "metadata": {
        "colab": {
          "base_uri": "https://localhost:8080/"
        },
        "id": "yshaOn8IiGRC",
        "outputId": "55028ab2-f2f4-431b-b459-b17f5bf30d3b"
      },
      "source": [
        "!pip install flask\n",
        "!pip install flask-ngrok"
      ],
      "execution_count": 3,
      "outputs": [
        {
          "output_type": "stream",
          "name": "stdout",
          "text": [
            "Requirement already satisfied: flask in /usr/local/lib/python3.7/dist-packages (1.1.4)\n",
            "Requirement already satisfied: Werkzeug<2.0,>=0.15 in /usr/local/lib/python3.7/dist-packages (from flask) (1.0.1)\n",
            "Requirement already satisfied: itsdangerous<2.0,>=0.24 in /usr/local/lib/python3.7/dist-packages (from flask) (1.1.0)\n",
            "Requirement already satisfied: click<8.0,>=5.1 in /usr/local/lib/python3.7/dist-packages (from flask) (7.1.2)\n",
            "Requirement already satisfied: Jinja2<3.0,>=2.10.1 in /usr/local/lib/python3.7/dist-packages (from flask) (2.11.3)\n",
            "Requirement already satisfied: MarkupSafe>=0.23 in /usr/local/lib/python3.7/dist-packages (from Jinja2<3.0,>=2.10.1->flask) (2.0.1)\n",
            "Requirement already satisfied: flask-ngrok in /usr/local/lib/python3.7/dist-packages (0.0.25)\n",
            "Requirement already satisfied: requests in /usr/local/lib/python3.7/dist-packages (from flask-ngrok) (2.23.0)\n",
            "Requirement already satisfied: Flask>=0.8 in /usr/local/lib/python3.7/dist-packages (from flask-ngrok) (1.1.4)\n",
            "Requirement already satisfied: Werkzeug<2.0,>=0.15 in /usr/local/lib/python3.7/dist-packages (from Flask>=0.8->flask-ngrok) (1.0.1)\n",
            "Requirement already satisfied: itsdangerous<2.0,>=0.24 in /usr/local/lib/python3.7/dist-packages (from Flask>=0.8->flask-ngrok) (1.1.0)\n",
            "Requirement already satisfied: click<8.0,>=5.1 in /usr/local/lib/python3.7/dist-packages (from Flask>=0.8->flask-ngrok) (7.1.2)\n",
            "Requirement already satisfied: Jinja2<3.0,>=2.10.1 in /usr/local/lib/python3.7/dist-packages (from Flask>=0.8->flask-ngrok) (2.11.3)\n",
            "Requirement already satisfied: MarkupSafe>=0.23 in /usr/local/lib/python3.7/dist-packages (from Jinja2<3.0,>=2.10.1->Flask>=0.8->flask-ngrok) (2.0.1)\n",
            "Requirement already satisfied: certifi>=2017.4.17 in /usr/local/lib/python3.7/dist-packages (from requests->flask-ngrok) (2021.5.30)\n",
            "Requirement already satisfied: urllib3!=1.25.0,!=1.25.1,<1.26,>=1.21.1 in /usr/local/lib/python3.7/dist-packages (from requests->flask-ngrok) (1.24.3)\n",
            "Requirement already satisfied: idna<3,>=2.5 in /usr/local/lib/python3.7/dist-packages (from requests->flask-ngrok) (2.10)\n",
            "Requirement already satisfied: chardet<4,>=3.0.2 in /usr/local/lib/python3.7/dist-packages (from requests->flask-ngrok) (3.0.4)\n"
          ]
        }
      ]
    },
    {
      "cell_type": "code",
      "metadata": {
        "colab": {
          "base_uri": "https://localhost:8080/"
        },
        "id": "o5Igyf7DAgrs",
        "outputId": "6c2de5b2-e532-4344-d876-23b91c03ca72"
      },
      "source": [
        "from google.colab import drive\n",
        "drive.mount('/content/drive')\n",
        "%cd /content/drive/MyDrive/deepfakes/first-order-model"
      ],
      "execution_count": 4,
      "outputs": [
        {
          "output_type": "stream",
          "name": "stdout",
          "text": [
            "Drive already mounted at /content/drive; to attempt to forcibly remount, call drive.mount(\"/content/drive\", force_remount=True).\n",
            "/content/drive/MyDrive/deepfakes/first-order-model\n"
          ]
        }
      ]
    },
    {
      "cell_type": "code",
      "metadata": {
        "colab": {
          "base_uri": "https://localhost:8080/"
        },
        "id": "Vi64PAlAAgrt",
        "outputId": "a5b28ec7-fd98-420b-f29d-303363aa972e"
      },
      "source": [
        "import moviepy.editor as mpe \n",
        "import imageio\n",
        "import numpy as np\n",
        "import matplotlib.pyplot as plt\n",
        "import matplotlib.animation as animation\n",
        "from skimage.transform import resize\n",
        "from IPython.display import HTML\n",
        "from IPython.display import Image\n",
        "from IPython.display import clear_output\n",
        "import warnings\n",
        " \n",
        "from demo import make_animation\n",
        "from skimage import img_as_ubyte\n",
        "warnings.filterwarnings(\"ignore\")\n",
        "from demo import load_checkpoints\n",
        " \n",
        " \n",
        "def display(source, driving, generated1=None, generated2 = None):\n",
        "    fig = plt.figure(figsize=(8 + 4 * (generated1 is not None) + 4 * (generated2 is not None), 6))\n",
        " \n",
        "    ims = []\n",
        "    for i in range(len(driving)):\n",
        "        cols = [source]\n",
        "        cols.append(driving[i])\n",
        "        if generated1 is not None:\n",
        "            cols.append(generated1[i])\n",
        "        if generated2 is not None:\n",
        "            cols.append(generated2[i])\n",
        "        im = plt.imshow(np.concatenate(cols, axis=1), animated=True)\n",
        "        plt.axis('off')\n",
        "        ims.append([im])\n",
        " \n",
        "    ani = animation.ArtistAnimation(fig, ims, interval=50, repeat_delay=1000)\n",
        "    plt.close()\n",
        "    return ani\n",
        "\n",
        "\n",
        "path_ = \"/content/drive/MyDrive/deepfakes/first-order-model/config/\"\n",
        "Checkpoint = 'vox-adv-cpk.pth'\n",
        "checkpoint_p = {\n",
        "    \"vox-cpk.pth\": path_ + 'vox-cpk.pth.tar', \n",
        "    \"vox-adv-cpk.pth\": path_ + 'vox-adv-cpk.pth.tar'\n",
        "}\n",
        "  \n",
        "generator, kp_detector = load_checkpoints(config_path='config/vox-256.yaml', \n",
        "                            checkpoint_path=str(checkpoint_p[Checkpoint]))\n",
        " \n",
        "\n",
        "print(\"CONFIGURE DONE\")"
      ],
      "execution_count": 5,
      "outputs": [
        {
          "output_type": "stream",
          "name": "stdout",
          "text": [
            "CONFIGURE DONE\n"
          ]
        }
      ]
    },
    {
      "cell_type": "code",
      "metadata": {
        "id": "aT_iUiME9Ysd"
      },
      "source": [
        "def combine_audio(vidname, audname, outname, fps=25):\n",
        "    import moviepy.editor as mpe\n",
        "    my_clip = mpe.VideoFileClip(vidname)\n",
        "    audio_background = mpe.AudioFileClip(audname)\n",
        "    final_clip = my_clip.set_audio(audio_background)\n",
        "    final_clip.write_videofile(outname,fps=fps)\n",
        "\n",
        "\n",
        "\n",
        "def Predictor(user_image_path, imposer_file_path, mp3):\n",
        "  print(\"user_image_path\", user_image_path, \"imposer_file_path\", imposer_file_path, \"mp3\", mp3);\n",
        "  \n",
        "  Source_Image = user_image_path\n",
        "  Driving_Video = imposer_file_path\n",
        "\n",
        "  source_image = imageio.imread(Source_Image)\n",
        "  driving_video = imageio.mimread(str(Driving_Video))\n",
        "  \n",
        "  #Resize image and video to 256x256\n",
        "  \n",
        "  source_image = resize(source_image, (256, 256))[..., :3]\n",
        "  driving_video = [resize(frame, (256, 256))[..., :3] for frame in driving_video]\n",
        "  \n",
        "  #predictions1 = make_animation(source_image, driving_video, generator, kp_detector, relative=True)\n",
        "  #save resulting video\n",
        "  #video can be downloaded from /content folder\n",
        "  predictions2 = make_animation(source_image, driving_video, generator, kp_detector, relative=False, adapt_movement_scale=True)\n",
        "  #HTML(display(source_image, driving_video, predictions1, predictions2).to_html5_video())\n",
        "  imageio.mimsave('/content/drive/MyDrive/deepfakes/generated_expressionP2.mp4', [img_as_ubyte(frame) for frame in predictions2])\n",
        "  combine_audio('/content/drive/MyDrive/deepfakes/generated_expressionP2.mp4', mp3,'/content/drive/MyDrive/deepfakes/audio&video.mp4')"
      ],
      "execution_count": 6,
      "outputs": []
    },
    {
      "cell_type": "code",
      "metadata": {
        "id": "wzpnJxprqK5M"
      },
      "source": [
        "import os\n",
        "from uuid import uuid4\n",
        "from flask import *\n",
        "from flask_ngrok import run_with_ngrok\n",
        "from flask import Flask, request, render_template, send_from_directory, render_template, Response\n",
        "import matplotlib.pyplot as plt\n",
        "import cv2\n",
        "from tensorflow.keras.models import load_model\n",
        "from sklearn.preprocessing import MinMaxScaler\n",
        "import numpy as np\n",
        "import random\n",
        "import time\n",
        "from flask import send_file\n",
        "import os\n",
        "from flask import Flask, jsonify\n",
        "from flask import Response\n",
        "import cv2\n",
        "import cv2\n",
        "import numpy as np\n",
        "from markupsafe import escape\n"
      ],
      "execution_count": 10,
      "outputs": []
    },
    {
      "cell_type": "code",
      "metadata": {
        "id": "UPipBXK8zGSR"
      },
      "source": [
        "app = Flask(__name__)\n",
        "\n",
        "@app.route(\"/upload/<song>\", methods=[\"POST\"])\n",
        "def upload(song):\n",
        "    print(f\"ID : {escape(song)}\", type(escape(song)), song)\n",
        "    pic = request.files['pic']\n",
        "    print(pic.filename)\n",
        "    pic.save('/content/drive/MyDrive/deepfakes/' + pic.filename)\n",
        "    user_name = '/content/drive/MyDrive/deepfakes/' + pic.filename\n",
        "    Predictor(user_name, '/content/drive/MyDrive/deepfakes/video&audioMain/{}.mp4'.format(song),'/content/drive/MyDrive/deepfakes/video&audioMain/{}.mp3'.format(song))\n",
        "    \n",
        "    return \"Image upload done\"\n",
        "\n",
        "@app.route(\"/\")\n",
        "def index():\n",
        "    return \"/ slash page\"\n",
        "\n",
        "@app.route('/video_feed')\n",
        "def video_feed():\n",
        "    #Video streaming route. Put this in the src attribute of an img tag\n",
        "    try:\n",
        "      return send_file(\"/content/drive/MyDrive/deepfakes/audio&video.mp4\", mimetype='multipart/x-mixed-replace; boundary=frame')\n",
        "    except:\n",
        "      print(\">><><><><><   EXCEPT SATEMENT><><><>  ><<<><<\")\n",
        "    "
      ],
      "execution_count": 11,
      "outputs": []
    },
    {
      "cell_type": "code",
      "metadata": {
        "colab": {
          "base_uri": "https://localhost:8080/"
        },
        "id": "KdgU_HSPp_cr",
        "outputId": "089d69dd-d3c2-4733-a521-f0850ef0d45c"
      },
      "source": [
        "run_with_ngrok(app)\n",
        "app.run()"
      ],
      "execution_count": null,
      "outputs": [
        {
          "output_type": "stream",
          "name": "stdout",
          "text": [
            " * Serving Flask app \"__main__\" (lazy loading)\n",
            " * Environment: production\n",
            "\u001b[31m   WARNING: This is a development server. Do not use it in a production deployment.\u001b[0m\n",
            "\u001b[2m   Use a production WSGI server instead.\u001b[0m\n",
            " * Debug mode: off\n"
          ]
        },
        {
          "output_type": "stream",
          "name": "stderr",
          "text": [
            " * Running on http://127.0.0.1:5000/ (Press CTRL+C to quit)\n"
          ]
        },
        {
          "output_type": "stream",
          "name": "stdout",
          "text": [
            " * Running on http://23d0-35-247-49-75.ngrok.io\n",
            " * Traffic stats available on http://127.0.0.1:4040\n"
          ]
        },
        {
          "output_type": "stream",
          "name": "stderr",
          "text": [
            "127.0.0.1 - - [19/Sep/2021 18:32:15] \"\u001b[37mGET / HTTP/1.1\u001b[0m\" 200 -\n",
            "127.0.0.1 - - [19/Sep/2021 18:32:16] \"\u001b[33mGET /favicon.ico HTTP/1.1\u001b[0m\" 404 -\n",
            "127.0.0.1 - - [19/Sep/2021 18:32:27] \"\u001b[37mGET / HTTP/1.1\u001b[0m\" 200 -\n"
          ]
        },
        {
          "output_type": "stream",
          "name": "stdout",
          "text": [
            "ID : Song 1 <class 'markupsafe.Markup'> Song 1\n",
            "image_cropper_1632076404561.jpg\n",
            "user_image_path /content/drive/MyDrive/deepfakes/image_cropper_1632076404561.jpg imposer_file_path /content/drive/MyDrive/deepfakes/video&audioMain/Song 1.mp4 mp3 /content/drive/MyDrive/deepfakes/video&audioMain/Song 1.mp3\n"
          ]
        },
        {
          "output_type": "stream",
          "name": "stderr",
          "text": [
            "100%|██████████| 150/150 [00:05<00:00, 25.72it/s]\n"
          ]
        },
        {
          "output_type": "stream",
          "name": "stdout",
          "text": [
            "[MoviePy] >>>> Building video /content/drive/MyDrive/deepfakes/audio&video.mp4\n",
            "[MoviePy] Writing audio in audio&videoTEMP_MPY_wvf_snd.mp3\n"
          ]
        },
        {
          "output_type": "stream",
          "name": "stderr",
          "text": [
            "100%|██████████| 150/150 [00:00<00:00, 798.64it/s]"
          ]
        },
        {
          "output_type": "stream",
          "name": "stdout",
          "text": [
            "[MoviePy] Done.\n"
          ]
        },
        {
          "output_type": "stream",
          "name": "stderr",
          "text": [
            "\n"
          ]
        },
        {
          "output_type": "stream",
          "name": "stdout",
          "text": [
            "[MoviePy] Writing video /content/drive/MyDrive/deepfakes/audio&video.mp4\n"
          ]
        },
        {
          "output_type": "stream",
          "name": "stderr",
          "text": [
            "100%|█████████▉| 375/376 [00:00<00:00, 445.67it/s]"
          ]
        },
        {
          "output_type": "stream",
          "name": "stdout",
          "text": [
            "[MoviePy] Done.\n",
            "[MoviePy] >>>> Video ready: /content/drive/MyDrive/deepfakes/audio&video.mp4 \n",
            "\n"
          ]
        },
        {
          "output_type": "stream",
          "name": "stderr",
          "text": [
            "\n",
            "127.0.0.1 - - [19/Sep/2021 18:33:58] \"\u001b[37mPOST /upload/Song%201 HTTP/1.1\u001b[0m\" 200 -\n",
            "127.0.0.1 - - [19/Sep/2021 18:33:59] \"\u001b[37mGET /video_feed HTTP/1.1\u001b[0m\" 200 -\n",
            "127.0.0.1 - - [19/Sep/2021 18:34:00] \"\u001b[37mGET /video_feed HTTP/1.1\u001b[0m\" 200 -\n",
            "127.0.0.1 - - [19/Sep/2021 18:34:02] \"\u001b[37mGET /video_feed HTTP/1.1\u001b[0m\" 200 -\n"
          ]
        },
        {
          "output_type": "stream",
          "name": "stdout",
          "text": [
            "ID : Song 1 <class 'markupsafe.Markup'> Song 1\n",
            "image_cropper_1632076404561.jpg\n",
            "user_image_path /content/drive/MyDrive/deepfakes/image_cropper_1632076404561.jpg imposer_file_path /content/drive/MyDrive/deepfakes/video&audioMain/Song 1.mp4 mp3 /content/drive/MyDrive/deepfakes/video&audioMain/Song 1.mp3\n"
          ]
        },
        {
          "output_type": "stream",
          "name": "stderr",
          "text": [
            "100%|██████████| 150/150 [00:05<00:00, 25.85it/s]\n"
          ]
        },
        {
          "output_type": "stream",
          "name": "stdout",
          "text": [
            "[MoviePy] >>>> Building video /content/drive/MyDrive/deepfakes/audio&video.mp4\n",
            "[MoviePy] Writing audio in audio&videoTEMP_MPY_wvf_snd.mp3\n"
          ]
        },
        {
          "output_type": "stream",
          "name": "stderr",
          "text": [
            "100%|██████████| 150/150 [00:00<00:00, 754.65it/s]"
          ]
        },
        {
          "output_type": "stream",
          "name": "stdout",
          "text": [
            "[MoviePy] Done.\n",
            "[MoviePy] Writing video /content/drive/MyDrive/deepfakes/audio&video.mp4\n"
          ]
        },
        {
          "output_type": "stream",
          "name": "stderr",
          "text": [
            "\n",
            "100%|█████████▉| 375/376 [00:00<00:00, 589.58it/s]\n"
          ]
        },
        {
          "output_type": "stream",
          "name": "stdout",
          "text": [
            "[MoviePy] Done.\n",
            "[MoviePy] >>>> Video ready: /content/drive/MyDrive/deepfakes/audio&video.mp4 \n",
            "\n"
          ]
        },
        {
          "output_type": "stream",
          "name": "stderr",
          "text": [
            "127.0.0.1 - - [19/Sep/2021 18:36:10] \"\u001b[37mPOST /upload/Song%201 HTTP/1.1\u001b[0m\" 200 -\n",
            "127.0.0.1 - - [19/Sep/2021 18:36:11] \"\u001b[37mGET /video_feed HTTP/1.1\u001b[0m\" 200 -\n",
            "127.0.0.1 - - [19/Sep/2021 18:36:12] \"\u001b[37mGET /video_feed HTTP/1.1\u001b[0m\" 200 -\n",
            "127.0.0.1 - - [19/Sep/2021 18:36:13] \"\u001b[37mGET /video_feed HTTP/1.1\u001b[0m\" 200 -\n",
            "127.0.0.1 - - [19/Sep/2021 18:36:18] \"\u001b[37mGET /video_feed HTTP/1.1\u001b[0m\" 200 -\n",
            "127.0.0.1 - - [19/Sep/2021 18:36:18] \"\u001b[37mGET /video_feed HTTP/1.1\u001b[0m\" 200 -\n",
            "127.0.0.1 - - [19/Sep/2021 18:36:19] \"\u001b[37mGET /video_feed HTTP/1.1\u001b[0m\" 200 -\n"
          ]
        }
      ]
    }
  ]
}